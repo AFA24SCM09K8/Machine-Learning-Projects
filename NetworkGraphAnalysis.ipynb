{
 "cells": [
  {
   "cell_type": "code",
   "execution_count": 1,
   "id": "960ae778",
   "metadata": {},
   "outputs": [],
   "source": [
    "import networkx as nx\n",
    "import matplotlib.pyplot as plt\n",
    "import pandas as pd"
   ]
  },
  {
   "cell_type": "code",
   "execution_count": 2,
   "id": "141d140b",
   "metadata": {},
   "outputs": [],
   "source": [
    "from subprocess import check_output\n",
    "\n",
    "import warnings"
   ]
  },
  {
   "cell_type": "code",
   "execution_count": 3,
   "id": "b9cc601b",
   "metadata": {},
   "outputs": [],
   "source": [
    "warnings.filterwarnings('ignore')"
   ]
  },
  {
   "cell_type": "code",
   "execution_count": 4,
   "id": "a6ffe5d4",
   "metadata": {},
   "outputs": [],
   "source": [
    "G = nx.Graph(day = \"Stackoverflow\")\n",
    "df_nodes = pd.read_csv('stack_network_nodes.csv')\n",
    "df_edges = pd.read_csv('stack_network_links.csv')"
   ]
  },
  {
   "cell_type": "code",
   "execution_count": null,
   "id": "8d3542f7",
   "metadata": {},
   "outputs": [],
   "source": [
    "for index, row in df_nodes.iterrows():\n",
    "    G.add_node(row['name'], group=row['group'], nodesize=row['nodesize'])\n",
    "    \n",
    "for index, row in df_edges.iterrows():\n",
    "    G.add_weighted_edges_from([(row['source'], row['target'], row['value'])])"
   ]
  }
 ],
 "metadata": {
  "kernelspec": {
   "display_name": "Python 3 (ipykernel)",
   "language": "python",
   "name": "python3"
  },
  "language_info": {
   "codemirror_mode": {
    "name": "ipython",
    "version": 3
   },
   "file_extension": ".py",
   "mimetype": "text/x-python",
   "name": "python",
   "nbconvert_exporter": "python",
   "pygments_lexer": "ipython3",
   "version": "3.11.5"
  }
 },
 "nbformat": 4,
 "nbformat_minor": 5
}
