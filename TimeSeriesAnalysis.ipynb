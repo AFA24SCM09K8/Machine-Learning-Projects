{
  "nbformat": 4,
  "nbformat_minor": 0,
  "metadata": {
    "colab": {
      "provenance": [],
      "authorship_tag": "ABX9TyNvzAuRDsyKyOxwiHWERuU4",
      "include_colab_link": true
    },
    "kernelspec": {
      "name": "python3",
      "display_name": "Python 3"
    },
    "language_info": {
      "name": "python"
    }
  },
  "cells": [
    {
      "cell_type": "markdown",
      "metadata": {
        "id": "view-in-github",
        "colab_type": "text"
      },
      "source": [
        "<a href=\"https://colab.research.google.com/github/amansingh202/Machine-Learning-Projects/blob/main/TimeSeriesAnalysis.ipynb\" target=\"_parent\"><img src=\"https://colab.research.google.com/assets/colab-badge.svg\" alt=\"Open In Colab\"/></a>"
      ]
    },
    {
      "cell_type": "code",
      "execution_count": 1,
      "metadata": {
        "id": "YBWWfH2r7OkY"
      },
      "outputs": [],
      "source": [
        "import pandas as pd\n",
        "import yfinance as yf\n",
        "import datetime\n",
        "from datetime import date, timedelta\n",
        "today = date.today()"
      ]
    },
    {
      "cell_type": "code",
      "source": [
        "d1 = today.strftime(\"%Y-%m-%d\")\n",
        "end_date = d1\n",
        "d2 = date.today() - timedelta(days = 720)\n",
        "d2 = d2.strftime(\"%Y-%m-%d\")\n",
        "start_date = d2\n",
        "data = yf.download('AAPL', start = start_date, end = end_date, progress = True)\n",
        "print(data.head())"
      ],
      "metadata": {
        "colab": {
          "base_uri": "https://localhost:8080/"
        },
        "id": "hjpPzY2q7ryQ",
        "outputId": "12b4faf3-01f9-4495-d47f-2638ca6baac2"
      },
      "execution_count": 2,
      "outputs": [
        {
          "output_type": "stream",
          "name": "stderr",
          "text": [
            "\r[*********************100%%**********************]  1 of 1 completed"
          ]
        },
        {
          "output_type": "stream",
          "name": "stdout",
          "text": [
            "                  Open        High         Low       Close   Adj Close  \\\n",
            "Date                                                                     \n",
            "2022-05-17  148.860001  149.770004  146.679993  149.240005  147.770584   \n",
            "2022-05-18  146.850006  147.360001  139.899994  140.820007  139.433487   \n",
            "2022-05-19  139.880005  141.660004  136.600006  137.350006  135.997650   \n",
            "2022-05-20  139.089996  140.699997  132.610001  137.589996  136.235275   \n",
            "2022-05-23  137.789993  143.259995  137.649994  143.110001  141.700974   \n",
            "\n",
            "               Volume  \n",
            "Date                   \n",
            "2022-05-17   78336300  \n",
            "2022-05-18  109742900  \n",
            "2022-05-19  136095600  \n",
            "2022-05-20  137426100  \n",
            "2022-05-23  117726300  \n"
          ]
        },
        {
          "output_type": "stream",
          "name": "stderr",
          "text": [
            "\n"
          ]
        }
      ]
    },
    {
      "cell_type": "code",
      "source": [],
      "metadata": {
        "id": "ON4qp8GD8htU"
      },
      "execution_count": null,
      "outputs": []
    }
  ]
}